{
 "cells": [
  {
   "cell_type": "markdown",
   "id": "c86c85b5-0916-4156-93f4-5c7a3c1dae5e",
   "metadata": {},
   "source": [
    "# Data Science Tools and Ecosystem"
   ]
  },
  {
   "cell_type": "markdown",
   "id": "6ae4cf69-cb87-4400-a30f-711270a18f65",
   "metadata": {},
   "source": [
    "##### In this notebook, Data Science Tools and Ecosystem are summarized."
   ]
  },
  {
   "cell_type": "markdown",
   "id": "562016dd-4b46-4da2-9fb3-5b24e38063be",
   "metadata": {},
   "source": [
    "##### ***Objectives:***\n",
    "##### - List of popular languages for Data Science.\n",
    "##### - List of commonly used libraries by Data Scientists\n",
    "##### - list of some of Data science Tools\n",
    "##### - Example arithmetic expression in Python"
   ]
  },
  {
   "cell_type": "markdown",
   "id": "ace14fef-53cb-4c50-9296-a64ff1addece",
   "metadata": {},
   "source": [
    "##### Some of the popular languages that Data Scientists use are:"
   ]
  },
  {
   "cell_type": "markdown",
   "id": "d18a4bb8-5847-4b29-a2f7-d49145786df2",
   "metadata": {},
   "source": [
    "##### 1. Python\n",
    "##### 2. Java\n",
    "##### 3. C++"
   ]
  },
  {
   "cell_type": "markdown",
   "id": "4aaedc30-3404-4023-9c8e-2b16b0e69be5",
   "metadata": {},
   "source": [
    "##### Some of the commonly used libraries used by Data Scientists include:"
   ]
  },
  {
   "cell_type": "markdown",
   "id": "8c36bd6b-866c-493b-aa76-c0daf6fbd269",
   "metadata": {},
   "source": [
    "##### 1. Python libraries\n",
    "##### 2. Apache Sparks\n",
    "##### 3. Scala libraries\n",
    "##### 4. R libraries"
   ]
  },
  {
   "cell_type": "markdown",
   "id": "7537595f-f71c-43ea-adea-b1f3064c8950",
   "metadata": {},
   "source": [
    "| Data Science Tools |\n",
    "| ---------- |\n",
    "| Anaconda environments  |\n",
    "| VIsualstudio Code (VS Code)|\n",
    "|Jupyter environments | "
   ]
  },
  {
   "cell_type": "markdown",
   "id": "239bce16-0261-444c-8646-1c588d8d00b2",
   "metadata": {},
   "source": [
    "### Below are a few examples of evaluating arithmetic expressions in Python"
   ]
  },
  {
   "cell_type": "markdown",
   "id": "580b9c9d-8e0e-4013-9c9c-47ba1253c7e5",
   "metadata": {},
   "source": [
    "##### This a simple arithmetic expression to mutiply then add \n"
   ]
  },
  {
   "cell_type": "code",
   "execution_count": 3,
   "id": "ee119835-586d-47a4-ac28-96c92e324921",
   "metadata": {},
   "outputs": [
    {
     "data": {
      "text/plain": [
       "17"
      ]
     },
     "execution_count": 3,
     "metadata": {},
     "output_type": "execute_result"
    }
   ],
   "source": [
    "(3*4)+5 "
   ]
  },
  {
   "cell_type": "markdown",
   "id": "aa9c508a-57a3-4f65-8966-c62d9c2f1869",
   "metadata": {},
   "source": [
    "##### This will convert 200 minutes to hours by diving by 60"
   ]
  },
  {
   "cell_type": "code",
   "execution_count": 9,
   "id": "82eb7bb2-98a9-42ab-9e55-6baaf4ecaf2c",
   "metadata": {},
   "outputs": [
    {
     "data": {
      "text/plain": [
       "3.3333333333333335"
      ]
     },
     "execution_count": 9,
     "metadata": {},
     "output_type": "execute_result"
    }
   ],
   "source": [
    "200/60"
   ]
  },
  {
   "cell_type": "markdown",
   "id": "09ec274c-e786-4461-83b5-a80997d82d6f",
   "metadata": {},
   "source": [
    "## Author\n",
    "##### Saindou Ali"
   ]
  }
 ],
 "metadata": {
  "kernelspec": {
   "display_name": "Python 3 (ipykernel)",
   "language": "python",
   "name": "python3"
  },
  "language_info": {
   "codemirror_mode": {
    "name": "ipython",
    "version": 3
   },
   "file_extension": ".py",
   "mimetype": "text/x-python",
   "name": "python",
   "nbconvert_exporter": "python",
   "pygments_lexer": "ipython3",
   "version": "3.11.9"
  }
 },
 "nbformat": 4,
 "nbformat_minor": 5
}
